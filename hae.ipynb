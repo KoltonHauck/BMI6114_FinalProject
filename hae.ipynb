{
 "cells": [
  {
   "cell_type": "code",
   "execution_count": 1,
   "metadata": {},
   "outputs": [],
   "source": [
    "import torch\n",
    "import torch_directml\n",
    "from torch.utils.data import DataLoader, Dataset\n",
    "\n",
    "from transformers import BertModel, BertTokenizer,AutoModel, AutoTokenizer\n",
    "\n",
    "from tqdm import tqdm\n",
    "import json\n",
    "\n",
    "import torch.nn as nn\n",
    "import lightning as L\n",
    "\n",
    "# dml = torch_directml.device()\n",
    "dml = \"cpu\"\n"
   ]
  },
  {
   "cell_type": "code",
   "execution_count": 2,
   "metadata": {},
   "outputs": [],
   "source": [
    "with open(\"data/sub_1000.json\",\"r\") as j_file:\n",
    "    data = json.load(j_file)"
   ]
  },
  {
   "cell_type": "code",
   "execution_count": null,
   "metadata": {},
   "outputs": [],
   "source": []
  },
  {
   "cell_type": "code",
   "execution_count": 3,
   "metadata": {},
   "outputs": [],
   "source": [
    "def embed_descriptions(descriptions, model_directory, dml, batch_size=32):\n",
    "    \"\"\" Given a list of descriptions, a model directory, and a device, returns embeddings for the descriptions.\"\"\"\n",
    "    tokenizer = AutoTokenizer.from_pretrained(model_directory)\n",
    "\n",
    "    # Load pre-trained model (weights)\n",
    "    model = AutoModel.from_pretrained(model_directory)\n",
    "    model.to(dml)  # Move model to the specified device\n",
    "\n",
    "    model.eval()  # Put the model in \"evaluation\" mode, which turns off dropout\n",
    "    print(f\"Model loaded | Generating embeddings with batch size={batch_size}\")\n",
    "\n",
    "    # Prepare inputs as a dictionary for the model\n",
    "    inputs = tokenizer(descriptions, padding=True, truncation=True, return_tensors=\"pt\", max_length=64)\n",
    "    inputs = {k: v.to(dml) for k, v in inputs.items()}  # Move inputs to the specified device\n",
    "\n",
    "    # Process in batches with tqdm for progress tracking\n",
    "    embeddings = []\n",
    "    for i in tqdm(range(0, len(descriptions), batch_size), desc=\"Generating Embeddings\"):\n",
    "        batch = {k: v[i:i + batch_size] for k, v in inputs.items()}  # Create batch for the current iteration\n",
    "        with torch.no_grad():\n",
    "            outputs = model(**batch)\n",
    "\n",
    "        # Extract pooled output embeddings\n",
    "        batch_embeddings = outputs.pooler_output\n",
    "        embeddings.append(batch_embeddings)\n",
    "\n",
    "    # Concatenate batched embeddings\n",
    "    embeddings = torch.cat(embeddings, dim=0)\n",
    "\n",
    "    return {descriptions[i]: embeddings[i] for i in range(len(descriptions))}"
   ]
  },
  {
   "cell_type": "code",
   "execution_count": 4,
   "metadata": {},
   "outputs": [
    {
     "name": "stderr",
     "output_type": "stream",
     "text": [
      "100%|██████████| 1000/1000 [00:00<00:00, 1005.68it/s]\n"
     ]
    },
    {
     "name": "stdout",
     "output_type": "stream",
     "text": [
      "Model loaded | Generating embeddings with batch size=32\n"
     ]
    },
    {
     "name": "stderr",
     "output_type": "stream",
     "text": [
      "Generating Embeddings: 100%|██████████| 20/20 [00:25<00:00,  1.28s/it]\n"
     ]
    }
   ],
   "source": [
    "# generate embeddings\n",
    "\n",
    "# get set of all descriptions / reasondescriptions\n",
    "texts = set()\n",
    "\n",
    "for patient in tqdm(data):\n",
    "    for encounter in patient[\"encounters\"]:\n",
    "        texts.add(encounter[\"encounter\"][\"Description\"]) # append enc description\n",
    "        texts.add(encounter[\"encounter\"][\"ReasonDescription\"]) # append enc reasondescription\n",
    "\n",
    "        texts = texts | set([_[\"Description\"] for _ in encounter[\"conditions\"]]) # condition desc\n",
    "\n",
    "        texts = texts | set([_[\"Description\"] for _ in encounter[\"careplans\"]]) # careplan descs\n",
    "\n",
    "        texts = texts | set([_[\"ReasonDescription\"] for _ in encounter[\"careplans\"]]) # careplan reas descs\n",
    "\n",
    "        texts = texts | set([_[\"Description\"] for _ in encounter[\"procedures\"]]) # proc descs\n",
    "\n",
    "        texts = texts | set([_[\"ReasonDescription\"] for _ in encounter[\"procedures\"]]) # proc reas descs\n",
    "\n",
    "# tokenizer = BertTokenizer.from_pretrained('FremyCompany/BioLORD-2023')\n",
    "# model = BertModel.from_pretrained('FremyCompany/BioLORD-2023')\n",
    "\n",
    "text2embeddings = embed_descriptions(list(texts), \"FremyCompany/BioLORD-2023\",dml=dml)"
   ]
  },
  {
   "cell_type": "code",
   "execution_count": 5,
   "metadata": {},
   "outputs": [],
   "source": [
    "class PatientDataset(Dataset):\n",
    "    def __init__(self, data, text2embedding):\n",
    "        self.data = data\n",
    "        self.text2embedding = text2embedding\n",
    "\n",
    "    def __len__(self):\n",
    "        return len(self.data)\n",
    "    \n",
    "    def __getitem__(self, idx):\n",
    "        patient = self.data[idx]\n",
    "        embeddings = []\n",
    "        for encounter in patient['encounters']:\n",
    "            # Fetch embeddings for each text piece\n",
    "            for key in ['Description', 'ReasonDescription']:\n",
    "                text = encounter['encounter'].get(key, '')\n",
    "                if text and text in self.text2embedding:\n",
    "                    embeddings.append(self.text2embedding[text])\n",
    "\n",
    "            for item_type in ['conditions', 'careplans', 'procedures']:\n",
    "                for item in encounter[item_type]:\n",
    "                    for key in ['Description', 'ReasonDescription']:\n",
    "                        text = item.get(key, '')\n",
    "                        if text and text in self.text2embedding:\n",
    "                            embeddings.append(self.text2embedding[text])\n",
    "\n",
    "        # Stack embeddings if not empty, else return a zero tensor\n",
    "        embeddings_tensor = torch.stack(embeddings) if embeddings else torch.zeros(1, len(next(iter(self.text2embedding.values()))))\n",
    "\n",
    "        return {\n",
    "            'embeddings': embeddings_tensor,  # a list of tensors\n",
    "            'features': torch.tensor([patient['lat'], patient['lon']])\n",
    "        }\n",
    "\n",
    "dataset = PatientDataset(data, text2embeddings)\n",
    "dataloader = DataLoader(dataset, batch_size=2)\n"
   ]
  },
  {
   "cell_type": "code",
   "execution_count": 6,
   "metadata": {},
   "outputs": [],
   "source": [
    "from torch.nn.utils.rnn import pad_sequence\n",
    "\n",
    "def collate_fn(batch):\n",
    "    embeddings = [item['embeddings'] for item in batch]\n",
    "    features = torch.stack([item['features'] for item in batch])\n",
    "\n",
    "    # Pad the embeddings sequences\n",
    "    embeddings_padded = pad_sequence(embeddings, batch_first=True)\n",
    "\n",
    "    return {\n",
    "        'embeddings': embeddings_padded,\n",
    "        'features': features\n",
    "    }"
   ]
  },
  {
   "cell_type": "code",
   "execution_count": 20,
   "metadata": {},
   "outputs": [],
   "source": [
    "class EncounterAutoencoder(nn.Module):\n",
    "    def __init__(self, embedding_dim, hidden_dim):\n",
    "        super(EncounterAutoencoder, self).__init__()\n",
    "        self.lstm = nn.LSTM(embedding_dim, hidden_dim, batch_first=True)\n",
    "\n",
    "    def forward(self, x):\n",
    "        output, (hidden, cell) = self.lstm(x)\n",
    "        return hidden[-1]  # Taking the last hidden state as the representation\n",
    "        # return output\n",
    "\n",
    "class PatientAutoencoder(L.LightningModule):\n",
    "    def __init__(self, embedding_dim, hidden_dim, patient_latent_dim):\n",
    "        super(PatientAutoencoder, self).__init__()\n",
    "        self.encounter_autoencoder = EncounterAutoencoder(embedding_dim, hidden_dim)\n",
    "        self.patient_encoder = nn.Linear(hidden_dim, patient_latent_dim)\n",
    "        self.patient_decoder_1 = nn.Linear(patient_latent_dim, hidden_dim)\n",
    "        self.patient_decoder_2 = nn.Linear(hidden_dim, embedding_dim)\n",
    "\n",
    "    def forward(self, x):\n",
    "        # print(\"x embeddings\", x[\"embeddings\"].shape)\n",
    "        encounter_representation = self.encounter_autoencoder(x['embeddings'])\n",
    "        # print(\"encounter representation\", encounter_representation.shape)\n",
    "        patient_encoded = self.patient_encoder(encounter_representation)\n",
    "        # print(\"patient encoded\", patient_encoded.shape)\n",
    "\n",
    "        patient_decoded = self.patient_decoder_1(patient_encoded)\n",
    "\n",
    "        # print(\"patient decoded\", patient_decoded.shape)\n",
    "\n",
    "        return patient_decoded\n",
    "\n",
    "    def training_step(self, batch, batch_idx):\n",
    "        x = batch\n",
    "        output = self.forward(x)\n",
    "        # Assuming the original data is available for computing loss\n",
    "        # You might need to adjust this based on how you structure your data and loss function\n",
    "        loss = nn.MSELoss()(output, self.encounter_autoencoder(x[\"embeddings\"]))\n",
    "        self.log('train_loss', loss)\n",
    "        return loss\n",
    "\n",
    "    def configure_optimizers(self):\n",
    "        optimizer = torch.optim.Adam(self.parameters(), lr=0.001)\n",
    "        return optimizer\n"
   ]
  },
  {
   "cell_type": "code",
   "execution_count": 21,
   "metadata": {},
   "outputs": [
    {
     "name": "stderr",
     "output_type": "stream",
     "text": [
      "GPU available: False, used: False\n",
      "TPU available: False, using: 0 TPU cores\n",
      "IPU available: False, using: 0 IPUs\n",
      "HPU available: False, using: 0 HPUs\n",
      "Missing logger folder: pl_logs/hae\n",
      "\n",
      "  | Name                  | Type                 | Params\n",
      "---------------------------------------------------------------\n",
      "0 | encounter_autoencoder | EncounterAutoencoder | 459 K \n",
      "1 | patient_encoder       | Linear               | 8.3 K \n",
      "2 | patient_decoder_1     | Linear               | 8.3 K \n",
      "3 | patient_decoder_2     | Linear               | 99.1 K\n",
      "---------------------------------------------------------------\n",
      "575 K     Trainable params\n",
      "0         Non-trainable params\n",
      "575 K     Total params\n",
      "2.302     Total estimated model params size (MB)\n"
     ]
    },
    {
     "data": {
      "application/vnd.jupyter.widget-view+json": {
       "model_id": "c32c410686bf42a0b5ed10235e493670",
       "version_major": 2,
       "version_minor": 0
      },
      "text/plain": [
       "Training: |          | 0/? [00:00<?, ?it/s]"
      ]
     },
     "metadata": {},
     "output_type": "display_data"
    },
    {
     "name": "stderr",
     "output_type": "stream",
     "text": [
      "`Trainer.fit` stopped: `max_epochs=1` reached.\n"
     ]
    }
   ],
   "source": [
    "from torch.utils.data import DataLoader\n",
    "from lightning.pytorch.callbacks import EarlyStopping, ModelCheckpoint\n",
    "from lightning.pytorch.loggers import CSVLogger\n",
    "\n",
    "dataset = PatientDataset(data, text2embeddings)\n",
    "dataloader = DataLoader(dataset, batch_size=2, shuffle=True, collate_fn=collate_fn)\n",
    "\n",
    "# Initialize the model\n",
    "embedding_dim = 768\n",
    "hidden_dim = 128  # Intermediate representation size\n",
    "patient_latent_dim = 64  # Final latent space dimension for the patient\n",
    "\n",
    "model = PatientAutoencoder(embedding_dim, hidden_dim, patient_latent_dim)\n",
    "\n",
    "logger = CSVLogger(\"pl_logs\", name=\"hae\")\n",
    "\n",
    "# Initialize PyTorch Lightning trainer and train the model\n",
    "trainer = L.Trainer(max_epochs=1, accelerator=\"cpu\", callbacks=[\n",
    "    ModelCheckpoint(\n",
    "        monitor=\"train_loss\", mode=\"min\", save_last=True, save_top_k=1,\n",
    "        dirpath=\"checkpoints/\", filename=\"hae-{epoch:02d}-{val_loss:.2f}\"\n",
    "    ),\n",
    "    EarlyStopping(monitor=\"train_loss\", patience=3, mode=\"min\")\n",
    "], logger=logger)\n",
    "trainer.fit(model, dataloader)\n"
   ]
  }
 ],
 "metadata": {
  "kernelspec": {
   "display_name": "pydml",
   "language": "python",
   "name": "python3"
  },
  "language_info": {
   "codemirror_mode": {
    "name": "ipython",
    "version": 3
   },
   "file_extension": ".py",
   "mimetype": "text/x-python",
   "name": "python",
   "nbconvert_exporter": "python",
   "pygments_lexer": "ipython3",
   "version": "3.10.13"
  }
 },
 "nbformat": 4,
 "nbformat_minor": 2
}
