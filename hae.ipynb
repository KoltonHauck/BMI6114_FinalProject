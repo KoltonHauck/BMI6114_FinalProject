{
 "cells": [
  {
   "cell_type": "code",
   "execution_count": 1,
   "metadata": {},
   "outputs": [
    {
     "name": "stderr",
     "output_type": "stream",
     "text": [
      "c:\\Users\\kolton.hauck\\Documents\\Kolton's Cotiviti Vault\\UofU\\BMI6114_FinalProject\\.venv\\lib\\site-packages\\tqdm\\auto.py:21: TqdmWarning: IProgress not found. Please update jupyter and ipywidgets. See https://ipywidgets.readthedocs.io/en/stable/user_install.html\n",
      "  from .autonotebook import tqdm as notebook_tqdm\n"
     ]
    }
   ],
   "source": [
    "import torch\n",
    "from torch.utils.data import DataLoader, Dataset\n",
    "\n",
    "from transformers import AutoModel, AutoTokenizer\n",
    "\n",
    "from tqdm import tqdm\n",
    "import json\n",
    "\n",
    "import torch.nn as nn\n",
    "from torchmetrics import MeanSquaredError, MeanAbsoluteError\n",
    "from torch.nn.utils.rnn import pad_sequence\n",
    "from torchmetrics import F1Score, Accuracy\n",
    "\n",
    "import lightning as L\n",
    "import random\n",
    "\n",
    "from torch.utils.data import DataLoader\n",
    "from lightning.pytorch.callbacks import EarlyStopping, ModelCheckpoint\n",
    "from lightning.pytorch.loggers import CSVLogger"
   ]
  },
  {
   "cell_type": "code",
   "execution_count": 2,
   "metadata": {},
   "outputs": [],
   "source": [
    "with open(\"data/all_v2.json\",\"r\") as j_file:\n",
    "    data = json.load(j_file)"
   ]
  },
  {
   "cell_type": "code",
   "execution_count": 3,
   "metadata": {},
   "outputs": [],
   "source": [
    "def embed_descriptions(descriptions, model_directory, batch_size=32):\n",
    "    \"\"\" Given a list of descriptions, a model directory, and a device, returns embeddings for the descriptions.\"\"\"\n",
    "    tokenizer = AutoTokenizer.from_pretrained(model_directory)\n",
    "\n",
    "    # Load pre-trained model (weights)\n",
    "    model = AutoModel.from_pretrained(model_directory)\n",
    "\n",
    "    model.eval()  # Put the model in \"evaluation\" mode, which turns off dropout\n",
    "    print(f\"Model loaded | Generating embeddings with batch size={batch_size}\")\n",
    "\n",
    "    # Prepare inputs as a dictionary for the model\n",
    "    inputs = tokenizer(descriptions, padding=True, truncation=True, return_tensors=\"pt\", max_length=64)\n",
    "    inputs = {k: v for k, v in inputs.items()}  # Move inputs to the specified device\n",
    "\n",
    "    # Process in batches with tqdm for progress tracking\n",
    "    embeddings = []\n",
    "    for i in tqdm(range(0, len(descriptions), batch_size), desc=\"Generating Embeddings\"):\n",
    "        batch = {k: v[i:i + batch_size] for k, v in inputs.items()}  # Create batch for the current iteration\n",
    "        with torch.no_grad():\n",
    "            outputs = model(**batch)\n",
    "\n",
    "        # Extract pooled output embeddings\n",
    "        batch_embeddings = outputs.pooler_output\n",
    "        embeddings.append(batch_embeddings)\n",
    "\n",
    "    # Concatenate batched embeddings\n",
    "    embeddings = torch.cat(embeddings, dim=0)\n",
    "\n",
    "    return {descriptions[i]: embeddings[i] for i in range(len(descriptions))}"
   ]
  },
  {
   "cell_type": "code",
   "execution_count": 4,
   "metadata": {},
   "outputs": [
    {
     "name": "stderr",
     "output_type": "stream",
     "text": [
      "  0%|          | 0/66331 [00:00<?, ?it/s]"
     ]
    },
    {
     "name": "stderr",
     "output_type": "stream",
     "text": [
      "100%|██████████| 66331/66331 [03:17<00:00, 336.48it/s]\n"
     ]
    },
    {
     "name": "stdout",
     "output_type": "stream",
     "text": [
      "Model loaded | Generating embeddings with batch size=32\n"
     ]
    },
    {
     "name": "stderr",
     "output_type": "stream",
     "text": [
      "Generating Embeddings: 100%|██████████| 25/25 [00:54<00:00,  2.19s/it]\n"
     ]
    }
   ],
   "source": [
    "# generate embeddings\n",
    "\n",
    "# get set of all descriptions / reasondescriptions\n",
    "texts = set()\n",
    "\n",
    "for patient in tqdm(data):\n",
    "    for encounter in patient[\"encounters\"]:\n",
    "        texts.add(encounter[\"encounter\"][\"Description\"]) # append enc description\n",
    "        texts.add(encounter[\"encounter\"][\"ReasonDescription\"]) # append enc reasondescription\n",
    "\n",
    "        texts = texts | set([_[\"Description\"] for _ in encounter[\"conditions\"]]) # condition desc\n",
    "\n",
    "        texts = texts | set([_[\"Description\"] for _ in encounter[\"careplans\"]]) # careplan descs\n",
    "\n",
    "        texts = texts | set([_[\"ReasonDescription\"] for _ in encounter[\"careplans\"]]) # careplan reas descs\n",
    "\n",
    "        texts = texts | set([_[\"Description\"] for _ in encounter[\"procedures\"]]) # proc descs\n",
    "\n",
    "        texts = texts | set([_[\"ReasonDescription\"] for _ in encounter[\"procedures\"]]) # proc reas descs\n",
    "\n",
    "text2embeddings = embed_descriptions(list(texts), \"BioLORD-2023\")"
   ]
  },
  {
   "cell_type": "code",
   "execution_count": 5,
   "metadata": {},
   "outputs": [],
   "source": [
    "class PatientDataset(Dataset):\n",
    "    def __init__(self, data, text2embedding):\n",
    "        self.data = data\n",
    "        self.text2embedding = text2embedding\n",
    "\n",
    "    def __len__(self):\n",
    "        return len(self.data)\n",
    "    \n",
    "    def __getitem__(self, idx):\n",
    "        patient = self.data[idx]\n",
    "        embeddings = []\n",
    "\n",
    "        for encounter in patient['encounters']:\n",
    "            # Fetch embeddings for each text piece\n",
    "            for key in ['Description', 'ReasonDescription']:\n",
    "                text = encounter['encounter'].get(key, '')\n",
    "                if text and text in self.text2embedding:\n",
    "                    embeddings.append(self.text2embedding[text])\n",
    "\n",
    "            for item_type in ['conditions', 'careplans', 'procedures']:\n",
    "                for item in encounter[item_type]:\n",
    "                    for key in ['Description', 'ReasonDescription']:\n",
    "                        text = item.get(key, '')\n",
    "                        if text and text in self.text2embedding:\n",
    "                            embeddings.append(self.text2embedding[text])\n",
    "\n",
    "        # Stack embeddings if not empty, else return a zero tensor\n",
    "        embeddings_tensor = torch.stack(embeddings) if embeddings else torch.zeros(1, len(next(iter(self.text2embedding.values()))))\n",
    "\n",
    "        return {\n",
    "            'embeddings': embeddings_tensor,  # a list of tensors\n",
    "            'features': torch.tensor([patient['lat'], patient['lon']]),\n",
    "            'label': int(patient[\"label\"])\n",
    "        }"
   ]
  },
  {
   "cell_type": "code",
   "execution_count": 6,
   "metadata": {},
   "outputs": [],
   "source": [
    "def collate_fn(batch):\n",
    "    embeddings = [item['embeddings'] for item in batch]\n",
    "    features = torch.stack([item['features'] for item in batch])\n",
    "    labels = torch.tensor([int(item['label']) for item in batch])\n",
    "\n",
    "    # Pad the embeddings sequences\n",
    "    embeddings_padded = pad_sequence(embeddings, batch_first=True)\n",
    "\n",
    "    return {\n",
    "        'embeddings': embeddings_padded,\n",
    "        'features': features,\n",
    "        'label': labels\n",
    "    }"
   ]
  },
  {
   "cell_type": "code",
   "execution_count": 7,
   "metadata": {},
   "outputs": [],
   "source": [
    "class EncounterAutoencoder(nn.Module):\n",
    "    def __init__(self, embedding_dim=768, hidden_dim=128):\n",
    "        super(EncounterAutoencoder, self).__init__()\n",
    "        self.lstm = nn.LSTM(embedding_dim, hidden_dim, batch_first=True)\n",
    "\n",
    "    def forward(self, x):\n",
    "        output, (hidden, cell) = self.lstm(x)\n",
    "        return hidden[-1]  # Taking the last hidden state as the representation\n",
    "\n",
    "class PatientAutoencoder(L.LightningModule):\n",
    "    def __init__(self, embedding_dim=768, hidden_dim=128, patient_latent_dim=64):\n",
    "        super(PatientAutoencoder, self).__init__()\n",
    "        self.encounter_autoencoder = EncounterAutoencoder(embedding_dim, hidden_dim)\n",
    "        self.patient_encoder = nn.Linear(hidden_dim, patient_latent_dim)\n",
    "        self.patient_decoder = nn.Linear(patient_latent_dim, hidden_dim)\n",
    "\n",
    "        self.train_mse = MeanSquaredError()\n",
    "        self.val_mse = MeanSquaredError()\n",
    "        self.test_mse = MeanSquaredError()\n",
    "\n",
    "        self.train_mae = MeanAbsoluteError()\n",
    "        self.val_mae = MeanAbsoluteError()\n",
    "        self.test_mae = MeanAbsoluteError()\n",
    "\n",
    "    def forward(self, x):\n",
    "\n",
    "        encounter_representation = self.encounter_autoencoder(x['embeddings'])\n",
    "        patient_encoded = self.patient_encoder(encounter_representation)\n",
    "        patient_decoded = self.patient_decoder(patient_encoded)\n",
    "\n",
    "        return patient_decoded\n",
    "    \n",
    "    def _common_step(self, batch, batch_idx, loss_metric, acc_metric, loss_lbl, metric_lbl):\n",
    "\n",
    "        X = batch\n",
    "        logits = self.forward(X)\n",
    "\n",
    "        loss = loss_metric(logits, self.encounter_autoencoder(X[\"embeddings\"]))\n",
    "\n",
    "        self.log(loss_lbl, loss, prog_bar=True)\n",
    "        self.log(metric_lbl, acc_metric(logits, self.encounter_autoencoder(X[\"embeddings\"])), prog_bar=True)\n",
    "\n",
    "        return loss\n",
    "\n",
    "    def training_step(self, batch, batch_idx):\n",
    "        return self._common_step(batch, batch_idx, self.train_mse, self.train_mae, \"train_mse\", \"train_mae\")\n",
    "\n",
    "    def on_training_epoch_end(self):\n",
    "        self.log(\"train_mse\", self.train_mse.compute())\n",
    "        self.log(\"train_mae\", self.train_mae.compute())\n",
    "        self.train_mse.reset()\n",
    "        self.train_mae.reset()\n",
    "\n",
    "    def validation_step(self, batch, batch_idx):\n",
    "        return self._common_step(batch, batch_idx, self.val_mse, self.val_mae, \"val_mse\", \"val_mae\")\n",
    "\n",
    "    def on_validation_epoch_end(self):\n",
    "        self.log(\"val_mse\", self.val_mse.compute())\n",
    "        self.log(\"val_mae\", self.val_mae.compute())\n",
    "        self.val_mse.reset()\n",
    "        self.val_mae.reset()\n",
    "\n",
    "    def test_step(self, batch, batch_idx):\n",
    "        return self._common_step(batch, batch_idx, self.val_mse, self.val_mae, \"test_mse\", \"test_mae\")\n",
    "\n",
    "    def on_test_epoch_end(self):\n",
    "        self.log(\"test_mse\", self.test_mse.compute())\n",
    "        self.log(\"test_mae\", self.test_mae.compute())\n",
    "        self.test_mse.reset()\n",
    "        self.test_mae.reset()\n",
    "\n",
    "    def configure_optimizers(self):\n",
    "        optimizer = torch.optim.Adam(self.parameters(), lr=0.001)\n",
    "        return optimizer\n"
   ]
  },
  {
   "cell_type": "code",
   "execution_count": 8,
   "metadata": {},
   "outputs": [],
   "source": [
    "def split_list(input_list, split_ratios):\n",
    "    total_length = len(input_list)\n",
    "    assert sum(split_ratios) == 1.0, \"Split ratios must sum up to 1.0\"\n",
    "\n",
    "    split_lengths = [int(total_length * ratio) for ratio in split_ratios]\n",
    "    split_lengths[-1] += total_length - sum(split_lengths)  # Adjust last split length to handle rounding errors\n",
    "\n",
    "    splits = []\n",
    "    start_idx = 0\n",
    "    for length in split_lengths:\n",
    "        splits.append(input_list[start_idx:start_idx + length])\n",
    "        start_idx += length\n",
    "\n",
    "    return splits"
   ]
  },
  {
   "cell_type": "code",
   "execution_count": 9,
   "metadata": {},
   "outputs": [
    {
     "name": "stdout",
     "output_type": "stream",
     "text": [
      "\n",
      "train: 46431\n",
      "  val: 9949\n",
      " test: 9951\n",
      "\n"
     ]
    }
   ],
   "source": [
    "split_ratios = [0.7, 0.15, 0.15]\n",
    "\n",
    "random.shuffle(data)\n",
    "train_data, val_data, test_data = split_list(data, split_ratios)\n",
    "\n",
    "print(f\"\"\"\n",
    "train: {len(train_data)}\n",
    "  val: {len(val_data)}\n",
    " test: {len(test_data)}\n",
    "\"\"\")"
   ]
  },
  {
   "cell_type": "code",
   "execution_count": 10,
   "metadata": {},
   "outputs": [
    {
     "name": "stderr",
     "output_type": "stream",
     "text": [
      "GPU available: False, used: False\n",
      "TPU available: False, using: 0 TPU cores\n",
      "IPU available: False, using: 0 IPUs\n",
      "HPU available: False, using: 0 HPUs\n",
      "Missing logger folder: pl_logs\\hae\n",
      "\n",
      "  | Name                  | Type                 | Params\n",
      "---------------------------------------------------------------\n",
      "0 | encounter_autoencoder | EncounterAutoencoder | 459 K \n",
      "1 | patient_encoder       | Linear               | 8.3 K \n",
      "2 | patient_decoder       | Linear               | 8.3 K \n",
      "3 | train_mse             | MeanSquaredError     | 0     \n",
      "4 | val_mse               | MeanSquaredError     | 0     \n",
      "5 | test_mse              | MeanSquaredError     | 0     \n",
      "6 | train_mae             | MeanAbsoluteError    | 0     \n",
      "7 | val_mae               | MeanAbsoluteError    | 0     \n",
      "8 | test_mae              | MeanAbsoluteError    | 0     \n",
      "---------------------------------------------------------------\n",
      "476 K     Trainable params\n",
      "0         Non-trainable params\n",
      "476 K     Total params\n",
      "1.905     Total estimated model params size (MB)\n"
     ]
    },
    {
     "name": "stdout",
     "output_type": "stream",
     "text": [
      "Sanity Checking: |          | 0/? [00:00<?, ?it/s]"
     ]
    },
    {
     "name": "stderr",
     "output_type": "stream",
     "text": [
      "c:\\Users\\kolton.hauck\\Documents\\Kolton's Cotiviti Vault\\UofU\\BMI6114_FinalProject\\.venv\\lib\\site-packages\\lightning\\pytorch\\trainer\\connectors\\data_connector.py:441: The 'val_dataloader' does not have many workers which may be a bottleneck. Consider increasing the value of the `num_workers` argument` to `num_workers=7` in the `DataLoader` to improve performance.\n"
     ]
    },
    {
     "name": "stdout",
     "output_type": "stream",
     "text": [
      "                                                                           "
     ]
    },
    {
     "name": "stderr",
     "output_type": "stream",
     "text": [
      "c:\\Users\\kolton.hauck\\Documents\\Kolton's Cotiviti Vault\\UofU\\BMI6114_FinalProject\\.venv\\lib\\site-packages\\lightning\\pytorch\\trainer\\connectors\\data_connector.py:441: The 'train_dataloader' does not have many workers which may be a bottleneck. Consider increasing the value of the `num_workers` argument` to `num_workers=7` in the `DataLoader` to improve performance.\n"
     ]
    },
    {
     "name": "stdout",
     "output_type": "stream",
     "text": [
      "Epoch 0:  11%|█▏        | 529/4644 [16:44<2:10:17,  0.53it/s, v_num=0, train_mse=1.76e-6, train_mae=0.000683]"
     ]
    },
    {
     "name": "stderr",
     "output_type": "stream",
     "text": [
      "c:\\Users\\kolton.hauck\\Documents\\Kolton's Cotiviti Vault\\UofU\\BMI6114_FinalProject\\.venv\\lib\\site-packages\\lightning\\pytorch\\trainer\\call.py:54: Detected KeyboardInterrupt, attempting graceful shutdown...\n"
     ]
    }
   ],
   "source": [
    "train_ds, val_ds, test_ds = PatientDataset(train_data, text2embeddings), PatientDataset(val_data, text2embeddings), PatientDataset(test_data, text2embeddings)\n",
    "train_dl, val_dl, test_dl = DataLoader(train_ds, batch_size=10, shuffle=True, collate_fn=collate_fn), DataLoader(val_ds, batch_size=10, collate_fn=collate_fn), DataLoader(test_ds, batch_size=10, collate_fn=collate_fn)\n",
    "\n",
    "# Initialize the model\n",
    "embedding_dim = 768\n",
    "hidden_dim = 128  # Intermediate representation size\n",
    "patient_latent_dim = 64  # Final latent space dimension for the patient\n",
    "\n",
    "model = PatientAutoencoder(embedding_dim, hidden_dim, patient_latent_dim)\n",
    "\n",
    "logger = CSVLogger(\"pl_logs\", name=\"hae\")\n",
    "\n",
    "# Initialize PyTorch Lightning trainer and train the model\n",
    "trainer = L.Trainer(max_epochs=10, accelerator=\"cpu\", callbacks=[\n",
    "    ModelCheckpoint(\n",
    "        monitor=\"train_mse\", mode=\"min\", save_last=True, save_top_k=1,\n",
    "        dirpath=\"checkpoints/\", filename=\"hae-{epoch:02d}-{val_mse:.2f}\"\n",
    "    ),\n",
    "    EarlyStopping(monitor=\"train_mse\", patience=3, mode=\"min\")\n",
    "], logger=logger)\n",
    "trainer.fit(model, train_dataloaders=train_dl, val_dataloaders=val_dl)\n"
   ]
  },
  {
   "cell_type": "code",
   "execution_count": 12,
   "metadata": {},
   "outputs": [
    {
     "data": {
      "text/plain": [
       "array([[<Axes: >, <Axes: >]], dtype=object)"
      ]
     },
     "execution_count": 12,
     "metadata": {},
     "output_type": "execute_result"
    },
    {
     "data": {
      "image/png": "[encoded data removed]",
      "text/plain": [
       "<Figure size 1600x400 with 2 Axes>"
      ]
     },
     "metadata": {},
     "output_type": "display_data"
    },
    {
     "data": {
      "image/png": "[encoded data removed]",
      "text/plain": [
       "<Figure size 1600x400 with 2 Axes>"
      ]
     },
     "metadata": {},
     "output_type": "display_data"
    }
   ],
   "source": [
    "import os\n",
    "import pandas as pd\n",
    "\n",
    "hist = pd.read_csv(f\"./pl_logs/hae/version_{len(os.listdir('./pl_logs/hae/')) - 1}/metrics.csv\")\n",
    "hist[['train_mse', 'train_mae']].dropna().plot(subplots=True, layout=(1,2), figsize=(16,4),\n",
    "                                         grid=True, title=\"Training Curves\")\n",
    "hist[['val_mse', 'val_mae']].dropna().plot(subplots=True, layout=(1,2), figsize=(16,4),\n",
    "                                         grid=True, title=\"Validation Curves\")"
   ]
  },
  {
   "cell_type": "code",
   "execution_count": 18,
   "metadata": {},
   "outputs": [],
   "source": [
    "class PatientClassifier(L.LightningModule):\n",
    "    def __init__(self, encoder, hidden_dim):\n",
    "        super().__init__()\n",
    "        num_classes = 2\n",
    "\n",
    "        self.encoder = encoder\n",
    "        for param in self.encoder.parameters():\n",
    "            param.requires_grad = False\n",
    "\n",
    "        self.classifier = nn.Linear(hidden_dim, num_classes)  # Two output neurons for binary classification\n",
    "\n",
    "        self.val_acc = Accuracy(task=\"binary\", num_classes=num_classes)\n",
    "        self.test_acc = Accuracy(task=\"binary\", num_classes=num_classes)\n",
    "        self.train_acc = Accuracy(task=\"binary\", num_classes=num_classes)\n",
    "        self.loss_function = nn.CrossEntropyLoss()\n",
    "\n",
    "    def forward(self, x):\n",
    "        encoded_features = self.encoder(x)\n",
    "        logits = self.classifier(encoded_features)\n",
    "\n",
    "        return logits\n",
    "\n",
    "    def _common_step(self, batch, batch_idx, metric, loss_lbl, metric_lbl):\n",
    "        x, y = batch[\"embeddings\"], batch[\"label\"]\n",
    "\n",
    "        logits = self.forward(x)\n",
    "        preds = torch.argmax(logits, dim=1)\n",
    "        loss = self.loss_function(logits, y)\n",
    "        \n",
    "        self.log(loss_lbl, loss, prog_bar=True)\n",
    "        self.log(metric_lbl, metric(preds, y), prog_bar=True)\n",
    "        return loss\n",
    "\n",
    "    def training_step(self, batch, batch_idx):\n",
    "        return self._common_step(batch, batch_idx, self.train_acc, \"train_loss\", \"train_acc\")\n",
    "\n",
    "    def on_training_epoch_end(self):\n",
    "        self.log(\"train_acc\", self.train_acc.compute())\n",
    "        self.train_acc.reset()\n",
    "\n",
    "    def validation_step(self, batch, batch_idx):\n",
    "        return self._common_step(batch, batch_idx, self.val_acc, \"val_loss\", \"val_acc\")\n",
    "\n",
    "    def on_validation_epoch_end(self):\n",
    "        self.log(\"val_acc\", self.val_acc.compute())\n",
    "        self.val_acc.reset()\n",
    "\n",
    "    def test_step(self, batch, batch_idx):\n",
    "        return self._common_step(batch, batch_idx, self.test_acc, \"test_loss\", \"test_acc\")\n",
    "\n",
    "    def on_test_epoch_end(self):\n",
    "        self.log(\"test_acc\", self.test_acc.compute())\n",
    "        self.test_acc.reset()\n",
    "\n",
    "    def configure_optimizers(self):\n",
    "        optimizer = torch.optim.Adam(self.classifier.parameters(), lr=0.001)\n",
    "        return optimizer\n"
   ]
  },
  {
   "cell_type": "code",
   "execution_count": 19,
   "metadata": {},
   "outputs": [
    {
     "name": "stderr",
     "output_type": "stream",
     "text": [
      "GPU available: False, used: False\n",
      "TPU available: False, using: 0 TPU cores\n",
      "IPU available: False, using: 0 IPUs\n",
      "HPU available: False, using: 0 HPUs\n",
      "c:\\Users\\kolton.hauck\\Documents\\Kolton's Cotiviti Vault\\UofU\\BMI6114_FinalProject\\.venv\\lib\\site-packages\\lightning\\pytorch\\callbacks\\model_checkpoint.py:653: Checkpoint directory C:\\Users\\kolton.hauck\\Documents\\Kolton's Cotiviti Vault\\UofU\\BMI6114_FinalProject\\checkpoints exists and is not empty.\n",
      "\n",
      "  | Name          | Type             | Params\n",
      "---------------------------------------------------\n",
      "0 | encoder       | Sequential       | 468 K \n",
      "1 | classifier    | Linear           | 130   \n",
      "2 | val_acc       | BinaryAccuracy   | 0     \n",
      "3 | test_acc      | BinaryAccuracy   | 0     \n",
      "4 | train_acc     | BinaryAccuracy   | 0     \n",
      "5 | loss_function | CrossEntropyLoss | 0     \n",
      "---------------------------------------------------\n",
      "130       Trainable params\n",
      "468 K     Non-trainable params\n",
      "468 K     Total params\n",
      "1.873     Total estimated model params size (MB)\n"
     ]
    },
    {
     "name": "stdout",
     "output_type": "stream",
     "text": [
      "Sanity Checking DataLoader 0:   0%|          | 0/2 [00:00<?, ?it/s]"
     ]
    },
    {
     "name": "stderr",
     "output_type": "stream",
     "text": [
      "c:\\Users\\kolton.hauck\\Documents\\Kolton's Cotiviti Vault\\UofU\\BMI6114_FinalProject\\.venv\\lib\\site-packages\\lightning\\pytorch\\trainer\\connectors\\data_connector.py:441: The 'val_dataloader' does not have many workers which may be a bottleneck. Consider increasing the value of the `num_workers` argument` to `num_workers=7` in the `DataLoader` to improve performance.\n"
     ]
    },
    {
     "name": "stdout",
     "output_type": "stream",
     "text": [
      "                                                                           "
     ]
    },
    {
     "name": "stderr",
     "output_type": "stream",
     "text": [
      "c:\\Users\\kolton.hauck\\Documents\\Kolton's Cotiviti Vault\\UofU\\BMI6114_FinalProject\\.venv\\lib\\site-packages\\lightning\\pytorch\\trainer\\connectors\\data_connector.py:441: The 'train_dataloader' does not have many workers which may be a bottleneck. Consider increasing the value of the `num_workers` argument` to `num_workers=7` in the `DataLoader` to improve performance.\n"
     ]
    },
    {
     "name": "stdout",
     "output_type": "stream",
     "text": [
      "Epoch 6: 100%|██████████| 70/70 [00:11<00:00,  6.36it/s, v_num=2, train_loss=0.361, train_acc=0.900, val_loss=0.548, val_acc=0.767]\n"
     ]
    }
   ],
   "source": [
    "embedding_dim = 768\n",
    "hidden_dim = 128  # Intermediate representation size\n",
    "patient_latent_dim = 64  # Final latent space dimension for the patient\n",
    "\n",
    "pretrained_hae = PatientAutoencoder.load_from_checkpoint(checkpoint_path='checkpoints/last.ckpt')\n",
    "encoder = nn.Sequential(\n",
    "    pretrained_hae.encounter_autoencoder,\n",
    "    pretrained_hae.patient_encoder\n",
    ")\n",
    "\n",
    "classifier_model = PatientClassifier(encoder=encoder, hidden_dim=patient_latent_dim)\n",
    "\n",
    "train_ds, val_ds, test_ds = PatientDataset(train_data, text2embeddings), PatientDataset(val_data, text2embeddings), PatientDataset(test_data, text2embeddings)\n",
    "train_dl, val_dl, test_dl = DataLoader(train_ds, batch_size=10, shuffle=True, collate_fn=collate_fn), DataLoader(val_ds, batch_size=10, collate_fn=collate_fn), DataLoader(test_ds, batch_size=10, collate_fn=collate_fn)\n",
    "\n",
    "logger = CSVLogger(\"pl_logs\", name=\"hae_classifier\")\n",
    "\n",
    "# Initialize PyTorch Lightning trainer and train the model\n",
    "trainer = L.Trainer(max_epochs=10, accelerator=\"cpu\", callbacks=[\n",
    "    ModelCheckpoint(\n",
    "        monitor=\"val_loss\", mode=\"min\", save_last=True, save_top_k=1,\n",
    "        dirpath=\"checkpoints/\", filename=\"hae_classifier-{epoch:02d}-{val_loss:.2f}\"\n",
    "    ),\n",
    "    EarlyStopping(monitor=\"val_loss\", patience=3, mode=\"min\")\n",
    "], logger=logger)\n",
    "trainer.fit(classifier_model, train_dataloaders=train_dl, val_dataloaders=val_dl)"
   ]
  },
  {
   "cell_type": "code",
   "execution_count": 21,
   "metadata": {},
   "outputs": [
    {
     "name": "stdout",
     "output_type": "stream",
     "text": [
      "Testing DataLoader 0:   0%|          | 0/15 [00:00<?, ?it/s]"
     ]
    },
    {
     "name": "stdout",
     "output_type": "stream",
     "text": [
      "Testing DataLoader 0: 100%|██████████| 15/15 [00:02<00:00,  7.38it/s]\n",
      "────────────────────────────────────────────────────────────────────────────────────────────────────────────────────────\n",
      "       Test metric             DataLoader 0\n",
      "────────────────────────────────────────────────────────────────────────────────────────────────────────────────────────\n",
      "        test_acc            0.7266666889190674\n",
      "        test_loss           0.6034016013145447\n",
      "────────────────────────────────────────────────────────────────────────────────────────────────────────────────────────\n"
     ]
    },
    {
     "data": {
      "text/plain": [
       "[{'test_loss': 0.6034016013145447, 'test_acc': 0.7266666889190674}]"
      ]
     },
     "execution_count": 21,
     "metadata": {},
     "output_type": "execute_result"
    }
   ],
   "source": [
    "trainer.test(classifier_model, dataloaders=test_dl)"
   ]
  }
 ],
 "metadata": {
  "kernelspec": {
   "display_name": "pydml",
   "language": "python",
   "name": "python3"
  },
  "language_info": {
   "codemirror_mode": {
    "name": "ipython",
    "version": 3
   },
   "file_extension": ".py",
   "mimetype": "text/x-python",
   "name": "python",
   "nbconvert_exporter": "python",
   "pygments_lexer": "ipython3",
   "version": "3.9.5"
  }
 },
 "nbformat": 4,
 "nbformat_minor": 2
}
