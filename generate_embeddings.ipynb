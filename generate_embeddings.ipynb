{
 "cells": [
  {
   "cell_type": "code",
   "execution_count": null,
   "metadata": {},
   "outputs": [],
   "source": [
    "from transformers import AutoModel, AutoTokenizer\n",
    "import torch\n",
    "from tqdm import tqdm\n",
    "import pickle\n",
    "import json"
   ]
  },
  {
   "cell_type": "code",
   "execution_count": null,
   "metadata": {},
   "outputs": [],
   "source": [
    "def embed_descriptions(descriptions, model_directory, batch_size=32):\n",
    "    \"\"\" Given a list of descriptions, a model directory, and a device, returns embeddings for the descriptions.\"\"\"\n",
    "    device = 'cuda' if torch.cuda.is_available() else 'cpu'\n",
    "\n",
    "    tokenizer = AutoTokenizer.from_pretrained(model_directory)\n",
    "\n",
    "    # Load pre-trained model (weights)\n",
    "    model = AutoModel.from_pretrained(model_directory)\n",
    "    model.to(device)\n",
    "    model.eval()  # Put the model in \"evaluation\" mode, which turns off dropout\n",
    "    print(f\"Model loaded | Generating embeddings with batch size={batch_size}\")\n",
    "\n",
    "    # Prepare inputs as a dictionary for the model\n",
    "    inputs = tokenizer(descriptions, padding=True, truncation=True, return_tensors=\"pt\", max_length=64)\n",
    "    inputs = {k: v.to(device) for k, v in inputs.items()}  # Move inputs to the specified device\n",
    "\n",
    "    # Process in batches with tqdm for progress tracking\n",
    "    embeddings = []\n",
    "    for i in tqdm(range(0, len(descriptions), batch_size), desc=\"Generating Embeddings\"):\n",
    "        batch = {k: v[i:i + batch_size] for k, v in inputs.items()}  # Create batch for the current iteration\n",
    "        with torch.no_grad():\n",
    "            outputs = model(**batch)\n",
    "\n",
    "        # Extract pooled output embeddings\n",
    "        batch_embeddings = outputs.pooler_output\n",
    "        embeddings.append(batch_embeddings)\n",
    "\n",
    "    # Concatenate batched embeddings\n",
    "    embeddings = torch.cat(embeddings, dim=0)\n",
    "\n",
    "    return {descriptions[i]: embeddings[i] for i in range(len(descriptions))}"
   ]
  },
  {
   "cell_type": "code",
   "execution_count": null,
   "metadata": {},
   "outputs": [],
   "source": [
    "# generate embeddings\n",
    "\n",
    "with open(\"data/all_v2.json\",\"r\") as j_file:\n",
    "    data = json.load(j_file)\n",
    "\n",
    "# get set of all descriptions / reasondescriptions\n",
    "texts = set()\n",
    "\n",
    "for patient in tqdm(data):\n",
    "    for encounter in patient[\"encounters\"]:\n",
    "        texts.add(encounter[\"encounter\"][\"Description\"]) # append enc description\n",
    "        texts.add(encounter[\"encounter\"][\"ReasonDescription\"]) # append enc reasondescription\n",
    "\n",
    "        texts = texts | set([_[\"Description\"] for _ in encounter[\"conditions\"]]) # condition desc\n",
    "\n",
    "        texts = texts | set([_[\"Description\"] for _ in encounter[\"careplans\"]]) # careplan descs\n",
    "\n",
    "        texts = texts | set([_[\"ReasonDescription\"] for _ in encounter[\"careplans\"]]) # careplan reas descs\n",
    "\n",
    "        texts = texts | set([_[\"Description\"] for _ in encounter[\"procedures\"]]) # proc descs\n",
    "\n",
    "        texts = texts | set([_[\"ReasonDescription\"] for _ in encounter[\"procedures\"]]) # proc reas descs\n",
    "\n",
    "text2embeddings = embed_descriptions(list(texts), \"FremyCompany/BioLORD-2023\")\n",
    "\n",
    "for key, value in text2embeddings.items():\n",
    "    text2embeddings[key] = value.cpu()\n",
    "\n",
    "with open('data/text2embeddings.pkl', 'wb') as f:\n",
    "    pickle.dump(text2embeddings, f)"
   ]
  }
 ],
 "metadata": {
  "language_info": {
   "name": "python"
  }
 },
 "nbformat": 4,
 "nbformat_minor": 2
}
